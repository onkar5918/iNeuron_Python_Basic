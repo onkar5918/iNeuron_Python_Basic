{
 "cells": [
  {
   "cell_type": "markdown",
   "metadata": {},
   "source": [
    "# Assignment1"
   ]
  },
  {
   "cell_type": "markdown",
   "metadata": {},
   "source": [
    "##### Question 1"
   ]
  },
  {
   "cell_type": "markdown",
   "metadata": {},
   "source": [
    "###### 1. What are the differences between operators and values in the following?\n",
    "*\n",
    "\n",
    "'hello'\n",
    "\n",
    "-87.8\n",
    "\n",
    "-\n",
    "\n",
    "/\n",
    "\n",
    "+\n",
    "\n",
    "6\n"
   ]
  },
  {
   "cell_type": "markdown",
   "metadata": {},
   "source": [
    "###### Answer: \n",
    "    \n",
    "        Operators are the used to perform the airthmatic and logistic operations on the variables and once we perform operations\n",
    "        on the variables we get output that is also known as value. Varibles also stores object inside that object is known as values\n",
    "        "
   ]
  },
  {
   "cell_type": "markdown",
   "metadata": {},
   "source": [
    "###### Examples"
   ]
  },
  {
   "cell_type": "code",
   "execution_count": 2,
   "metadata": {},
   "outputs": [
    {
     "name": "stdout",
     "output_type": "stream",
     "text": [
      "20\n",
      "hello\n",
      "<class 'float'>\n",
      "1\n",
      "1.25\n",
      "9\n",
      "<class 'int'>\n"
     ]
    }
   ],
   "source": [
    "        # * (Astrick): It's an airthmatic operator used for Multiplication\n",
    "        \n",
    "        print( 5*4)\n",
    "        \n",
    "        #\"hello\": its an string value which is displyed while printing the output\n",
    "         \n",
    "        print(\"hello\")\n",
    "        \n",
    "        #-87.8 : its an negative floating point value.\n",
    "        \n",
    "        print(type(-87.8))\n",
    "        \n",
    "        #- : Its an airthmatic operator used to subtract the two numbers.\n",
    "        \n",
    "        print(5-4)\n",
    "        \n",
    "        # /: Its an airthmatic operator used to divide the two numbers and output will be integer value\n",
    "        \n",
    "        print(5/4)\n",
    "        \n",
    "        # +: Its an airthametic operator used to add the two numbers.\n",
    "        \n",
    "        print(5+4)\n",
    "        \n",
    "        # 6: its an integer value, a number\n",
    "         \n",
    "        print(type(6))"
   ]
  },
  {
   "cell_type": "markdown",
   "metadata": {},
   "source": [
    "##### 2. What is the difference between string and variable?\n",
    "\n",
    "spam\n",
    "\n",
    "'spam'\n"
   ]
  },
  {
   "cell_type": "code",
   "execution_count": 5,
   "metadata": {},
   "outputs": [
    {
     "name": "stdout",
     "output_type": "stream",
     "text": [
      "Spam\n",
      "<class 'str'>\n",
      "Sp\n",
      "<class 'int'>\n",
      "30\n"
     ]
    }
   ],
   "source": [
    "#String: 'spam': String is an datatype of python which supports the slicing and indexing.its an series of characters\n",
    "# enclosed in single or double quotes\n",
    "\n",
    "str='Spam'\n",
    "print(str)\n",
    "print(type(str))\n",
    "print(str[0:2])\n",
    "\n",
    "#Spam: Variables are the placeholders used to hold the value for different operations in the program.\n",
    "\n",
    "spam=10\n",
    "print(type(spam))\n",
    "print(spam*3)"
   ]
  },
  {
   "cell_type": "markdown",
   "metadata": {},
   "source": [
    "#### 3. Describe three different data forms."
   ]
  },
  {
   "cell_type": "code",
   "execution_count": 41,
   "metadata": {},
   "outputs": [
    {
     "name": "stdout",
     "output_type": "stream",
     "text": [
      "<class 'int'>\n",
      "36\n",
      "<class 'float'>\n",
      "21.7\n",
      "[1, 2, 3, 4.5, 5.5, 'maths', 'python', True, False]\n",
      "<class 'list'>\n"
     ]
    }
   ],
   "source": [
    "# Numberic Data type: Integers, Float, Complex.\n",
    "# Text Data Type: String\n",
    "# Boolean Data Type: bool\n",
    "# Sequencial Data type: List, tuple, set, dict\n",
    "\n",
    "#1. Intergers:  Integers Numbers are generally used when we are doing some math operations on it. The numbers are without \n",
    "#decimal points or precision points. its whole number.\n",
    "\n",
    "print(type(6))\n",
    "print(6**2)\n",
    "\n",
    "#2. Float :Numbers are generally used when we are doing some math operations on it. The numbers are with \n",
    "#decimal points or precision points\n",
    "\n",
    "print(type(87.6))\n",
    "print(3.5*6.2)\n",
    "\n",
    "\n",
    "#3. List: list are created with square brackets and hold different data types all together.\n",
    "#Duplicate values are allowed, order is retained and slicing and indexing is possible.\n",
    "\n",
    "list1 = [1,2,3,4.5,5.5,\"maths\",\"python\",True,False]\n",
    "list1\n",
    "print(list1)\n",
    "print(type(list1))"
   ]
  },
  {
   "cell_type": "markdown",
   "metadata": {},
   "source": [
    "#### 4.What makes up an expression? What are the functions of all expressions?"
   ]
  },
  {
   "cell_type": "code",
   "execution_count": 9,
   "metadata": {},
   "outputs": [
    {
     "name": "stdout",
     "output_type": "stream",
     "text": [
      "2\n"
     ]
    }
   ],
   "source": [
    "# A sequence of operands and operators, like (x+y)-3  is called an expression.\n",
    "#Function of all expression is to perform operations on the variables given in the program, and display the result.\n",
    "\n",
    "x,y=2,3\n",
    "print((x+y)-3)"
   ]
  },
  {
   "cell_type": "markdown",
   "metadata": {},
   "source": [
    "#### 5.In this chapter, assignment statements such as spam = 10 were added. What's the difference between a declaration and an expression?"
   ]
  },
  {
   "cell_type": "code",
   "execution_count": 10,
   "metadata": {},
   "outputs": [
    {
     "name": "stdout",
     "output_type": "stream",
     "text": [
      "30\n"
     ]
    }
   ],
   "source": [
    "#Declaration is the state where we create the placeholder in form of variable and assign value to it.\n",
    "\n",
    "spam=10 \n",
    "\n",
    "#Expression is an sequence in which we perform operation on the given variables using different operators.\n",
    "\n",
    "print(spam*3)"
   ]
  },
  {
   "cell_type": "markdown",
   "metadata": {},
   "source": [
    "#### 6. After running the following code, what does the variable bacon contain?\n",
    "\n",
    "bacon = 22\n",
    "\n",
    "bacon + 1\n"
   ]
  },
  {
   "cell_type": "code",
   "execution_count": 11,
   "metadata": {},
   "outputs": [
    {
     "data": {
      "text/plain": [
       "23"
      ]
     },
     "execution_count": 11,
     "metadata": {},
     "output_type": "execute_result"
    }
   ],
   "source": [
    "#Output will be 23 in Jupyter notebook\n",
    "bacon=22\n",
    "bacon+1"
   ]
  },
  {
   "cell_type": "markdown",
   "metadata": {},
   "source": [
    "#### 7. What should the values of the following two terms be?\n",
    "\n",
    "'spam' + 'spamspam'\n",
    "\n",
    "'spam' * 3\n"
   ]
  },
  {
   "cell_type": "code",
   "execution_count": 19,
   "metadata": {},
   "outputs": [
    {
     "name": "stdout",
     "output_type": "stream",
     "text": [
      "spamspamspam\n",
      "spamspamspam\n"
     ]
    }
   ],
   "source": [
    "#Both lines will give the same output that is 'spamspamspam'\n",
    "#In the first line concatenation operator is used as both are string variable so + will work as concatenation operator.\n",
    "\n",
    "a='spam'+'spamspam'\n",
    "\n",
    "#In second line 'spam' keyword will be multipled by 3 time by above command and output will be spam three times\n",
    "\n",
    "b='spam'*3\n",
    "\n",
    "print(a)\n",
    "print(b)"
   ]
  },
  {
   "cell_type": "markdown",
   "metadata": {},
   "source": [
    "#### 8. Why is it that eggs is a true variable name but 100 is not?"
   ]
  },
  {
   "cell_type": "markdown",
   "metadata": {},
   "source": [
    "#####  Ans: There are some rules while defining the variable. You cant start the variable name with number That is the reason eggs is the true variable but 100 is not\n"
   ]
  },
  {
   "cell_type": "code",
   "execution_count": 21,
   "metadata": {},
   "outputs": [
    {
     "ename": "SyntaxError",
     "evalue": "can't assign to literal (<ipython-input-21-1cf82ebabfdc>, line 2)",
     "output_type": "error",
     "traceback": [
      "\u001b[1;36m  File \u001b[1;32m\"<ipython-input-21-1cf82ebabfdc>\"\u001b[1;36m, line \u001b[1;32m2\u001b[0m\n\u001b[1;33m    100=10\u001b[0m\n\u001b[1;37m          ^\u001b[0m\n\u001b[1;31mSyntaxError\u001b[0m\u001b[1;31m:\u001b[0m can't assign to literal\n"
     ]
    }
   ],
   "source": [
    "eggs=100\n",
    "100=10"
   ]
  },
  {
   "cell_type": "markdown",
   "metadata": {},
   "source": [
    "#### 9.Which of the following three functions may be used to convert a value to an integer, a floating-point number, or a string?"
   ]
  },
  {
   "cell_type": "code",
   "execution_count": 39,
   "metadata": {},
   "outputs": [
    {
     "name": "stdout",
     "output_type": "stream",
     "text": [
      "10\n",
      "10.0\n",
      "10\n",
      "<class 'str'>\n"
     ]
    }
   ],
   "source": [
    "#Typecasting is the method which used to conver the datatype of variable.\n",
    "a=10\n",
    "\n",
    "#To convert the number to integer we use int()function\n",
    "\n",
    "print(int(a))\n",
    "\n",
    "#To convert the number into floating point we use float() function\n",
    "\n",
    "print(float(a))\n",
    "\n",
    "#To Convert the number into string we use str()function\n",
    "\n",
    "print(a.__str__())\n",
    "print(type(a.__str__()))"
   ]
  },
  {
   "cell_type": "markdown",
   "metadata": {},
   "source": [
    "#### 10. What is the error caused by this expression? What would you do about it?\n",
    "\n",
    "'I have eaten ' + 99 + ' burritos.'\n"
   ]
  },
  {
   "cell_type": "code",
   "execution_count": 38,
   "metadata": {},
   "outputs": [
    {
     "data": {
      "text/plain": [
       "'I have eaten 99 burritos'"
      ]
     },
     "execution_count": 38,
     "metadata": {},
     "output_type": "execute_result"
    }
   ],
   "source": [
    "#The error will be typecasting error as 99 is an integer value. Python will not allow to concate the string value with integer\n",
    "#without conversion\n",
    "\n",
    "'I have eaten '+ '99'+' burritos'\n"
   ]
  },
  {
   "cell_type": "code",
   "execution_count": null,
   "metadata": {},
   "outputs": [],
   "source": []
  }
 ],
 "metadata": {
  "kernelspec": {
   "display_name": "Python 3",
   "language": "python",
   "name": "python3"
  },
  "language_info": {
   "codemirror_mode": {
    "name": "ipython",
    "version": 3
   },
   "file_extension": ".py",
   "mimetype": "text/x-python",
   "name": "python",
   "nbconvert_exporter": "python",
   "pygments_lexer": "ipython3",
   "version": "3.7.6"
  }
 },
 "nbformat": 4,
 "nbformat_minor": 4
}
