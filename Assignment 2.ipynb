{
 "cells": [
  {
   "cell_type": "markdown",
   "metadata": {},
   "source": [
    "#### 1. What are the Boolean data type's two values? How do you go about writing them?"
   ]
  },
  {
   "cell_type": "code",
   "execution_count": null,
   "metadata": {},
   "outputs": [],
   "source": [
    "#Boolean data type two values are True and False.\n",
    "\n",
    "#Below are the example how to declare the boolean data type\n",
    "\n",
    "a=True\n",
    "print(type(a))\n",
    "b= False\n",
    "print(type(b))"
   ]
  },
  {
   "cell_type": "markdown",
   "metadata": {},
   "source": [
    "#### 2. What are the three different types of Boolean operators?"
   ]
  },
  {
   "cell_type": "code",
   "execution_count": null,
   "metadata": {},
   "outputs": [],
   "source": [
    "# Three types of Operators are AND, Or, NOT\n",
    "# Below are the example for the same\n",
    "\n",
    "#In and both condition needs to be satisfied\n",
    "if 5>4 and 4>3 :\n",
    "    print(\"use of And operator\")\n",
    "#In Or only one condition needs to be satisfied    \n",
    "if 5>4 or 4>5:\n",
    "    print(\"use of Or operator\")\n",
    "#In Not is the inverse of the mentioned condition\n",
    "\n",
    "not 5 == 4\n"
   ]
  },
  {
   "cell_type": "markdown",
   "metadata": {},
   "source": [
    "#### 3. Make a list of each Boolean operator's truth tables (i.e. every possible combination of Boolean values for the operator and what it evaluate )."
   ]
  },
  {
   "attachments": {
    "image.png": {
     "image/png": "[encoded data removed]"
    }
   },
   "cell_type": "markdown",
   "metadata": {},
   "source": [
    "\t\t\t\n",
    "![image.png](attachment:image.png)"
   ]
  },
  {
   "cell_type": "markdown",
   "metadata": {},
   "source": [
    "#### 4. What are the values of the following expressions?\n",
    "\n",
    "\n"
   ]
  },
  {
   "cell_type": "code",
   "execution_count": null,
   "metadata": {},
   "outputs": [],
   "source": [
    "# (5 > 4) and (3 == 5)\n",
    "        #True\n",
    "# not (5 > 4)\n",
    "    #False\n",
    "# (5 > 4) or (3 == 5)\n",
    "    # True\n",
    "# not ((5 > 4) or (3 == 5))\n",
    "    #False\n",
    "# (True and True) and (True == False)\n",
    "    #False\n",
    "# (not False) or (not True)\n",
    "    # True\n",
    "    "
   ]
  },
  {
   "cell_type": "markdown",
   "metadata": {},
   "source": [
    "#### 5. What are the six different types of reference operators?"
   ]
  },
  {
   "cell_type": "markdown",
   "metadata": {},
   "source": [
    "##### Below are the six different types of operators\n",
    "1. Airthametic Operator (+, - , *, / , %, //, **)\n",
    "2. Assignment Operator ( =, +=,-=,*=,/=, %=,//=,**=)\n",
    "3. Logical Opertor    (and, or ,not )\n",
    "4. Identity Operator ( is , is not)\n",
    "5. Bitwise Operator (&, |, ^, ~, << ,>>)\n",
    "6. comparision Operator (!= , < ,<= ,>, >= ,==)\n",
    "7. Membership operator ( in , not in)\n"
   ]
  },
  {
   "cell_type": "markdown",
   "metadata": {},
   "source": [
    "#### 6. How do you tell the difference between the equal to and assignment operators?"
   ]
  },
  {
   "cell_type": "code",
   "execution_count": null,
   "metadata": {},
   "outputs": [],
   "source": [
    "# Equal to is an comparision operator  which denoted as (==) however assignment operator is as the name suggest assigns\n",
    "# the value to the variable\n",
    "\n",
    "#Equal To \n",
    "\n",
    "a=5;b=6\n",
    "\n",
    "if a==b:\n",
    "     print(True)\n",
    "else:\n",
    "     print(False)\n",
    "\n",
    "## Assignment Operator \n",
    "\n",
    "print(\"Value of a before assignment\",a)\n",
    "\n",
    "a=b\n",
    "\n",
    "print(\"Value of a after assignment\",a)\n",
    "\n"
   ]
  },
  {
   "cell_type": "markdown",
   "metadata": {},
   "source": [
    "#### 7. Describe a condition and when you would use one.\n"
   ]
  },
  {
   "cell_type": "code",
   "execution_count": null,
   "metadata": {},
   "outputs": [],
   "source": [
    "#When program demands a comparision between two or more variable that is called condition and if that condition satisfies\n",
    "# then program will give the desired output.\n",
    "\n",
    "a=5;b=10\n",
    "\n",
    "if a ==5 :\n",
    "    print(a+b)\n",
    "else:\n",
    "    print(a-b)"
   ]
  },
  {
   "cell_type": "markdown",
   "metadata": {},
   "source": [
    "#### 8. Recognize the following three blocks in this code:\n",
    "\n",
    "spam = 0\n",
    "\n",
    "if spam == 10:\n",
    "\n",
    "    print('eggs')\n",
    "    \n",
    "    if spam > 5:\n",
    "    \n",
    "        print('bacon')\n",
    "    \n",
    "    else:\n",
    "    \n",
    "        print('ham')\n",
    "    \n",
    "    print('spam')\n",
    "\n",
    "print('spam')\n"
   ]
  },
  {
   "cell_type": "markdown",
   "metadata": {},
   "source": [
    "##### This program will print output as\n",
    "#spam\n",
    "\n",
    "#As the program will be compiled line by line. We declared the spam variable and assign value as zero.\n",
    "#condition is given as if spam is equal to 10. as 0 is not equal to 10 hence condition will not be satisfied.\n",
    "#So the program will not enter in the if block and last  print statement is mentioned outside the if block.\n",
    "#Hence Last print statement will execute and program will end.\n"
   ]
  },
  {
   "cell_type": "markdown",
   "metadata": {},
   "source": [
    "#### Three Blocks of If Statement\n",
    "\n",
    "Block no 1 is first if statement which carries two print statement \"eggs\" and \"spam\"\n",
    "\n",
    "Block no 2 if statment carries only one print statment \"bacon\"\n",
    "\n",
    "Block 3 is else statment carries only one print statment\"Ham\""
   ]
  },
  {
   "cell_type": "markdown",
   "metadata": {},
   "source": [
    "#### 9. Create a programme that prints. If 1 is stored in spam, prints Hello; if 2 is stored in spam, prints Howdy; and if 3 is stored in spam, prints Salutations! if there's something else in spam."
   ]
  },
  {
   "cell_type": "code",
   "execution_count": null,
   "metadata": {},
   "outputs": [],
   "source": [
    "#Accepts the value from End user \n",
    "spam= int (input(\"Enter the value: \"))\n",
    "\n",
    "#Defining the condition\n",
    "if spam==1:\n",
    "    print(\"Hello\")\n",
    "elif spam==2:\n",
    "    print(\"Howdy\")\n",
    "elif spam==3:\n",
    "    print(\"Wow\")\n",
    "else:\n",
    "    print(\"Enter value between 1 to 3\")\n",
    "    "
   ]
  },
  {
   "cell_type": "markdown",
   "metadata": {},
   "source": [
    "#### 10.If your programme is stuck in an endless loop, what keys can you press?\n"
   ]
  },
  {
   "cell_type": "markdown",
   "metadata": {},
   "source": [
    "##### To break the loop on Jupyter notebook you can click on stop icon mentioend on toolbar \n",
    "#(Intterupt the kernel which will stop the infinite loop, shortcut(command I))\n",
    "\n",
    "\n"
   ]
  },
  {
   "cell_type": "markdown",
   "metadata": {},
   "source": [
    "##### ##To break the loop on terminal you can click Ctrl +c or Ctrl+z"
   ]
  },
  {
   "cell_type": "markdown",
   "metadata": {},
   "source": [
    "#### 11. How can you tell the difference between break and continue?"
   ]
  },
  {
   "cell_type": "code",
   "execution_count": null,
   "metadata": {},
   "outputs": [],
   "source": [
    "#Break: break keyword used the break or terminate the block of code \n",
    "#Continue: As name sugggest continue used to proceed with the next line of code block\n",
    "\n",
    "a=5\n",
    "cnt=0\n",
    "i=0\n",
    "while(i<=a):\n",
    "    if i==4:\n",
    "        break\n",
    "    print(i,end=\" \")\n",
    "    i+=1\n",
    "print('\\n')\n",
    "\n",
    "while(cnt<a):\n",
    "    if cnt<a:\n",
    "        continue\n",
    "        print(cnt,end=\" \")\n",
    "    cnt+=1\n",
    "    \n"
   ]
  },
  {
   "cell_type": "markdown",
   "metadata": {},
   "source": [
    "\n",
    "   \n"
   ]
  },
  {
   "cell_type": "markdown",
   "metadata": {},
   "source": [
    "#### 12. In a for loop, what is the difference between range(10), range(0, 10), and range(0, 10, 1)?"
   ]
  },
  {
   "cell_type": "code",
   "execution_count": null,
   "metadata": {},
   "outputs": [],
   "source": [
    "# There is no difference between above three range objects. All three will provide the same value\n",
    "\n",
    "for i in range(10):\n",
    "    print(i, end=\" \")\n",
    "print()\n",
    "for i in range(0,10):\n",
    "    print(i, end=\" \")\n",
    "print()\n",
    "for i in range(0,10,1):\n",
    "    print(i, end=\" \")\n"
   ]
  },
  {
   "cell_type": "markdown",
   "metadata": {},
   "source": [
    "#### 13. Using a for loop, write a short programme that prints the numbers 1 to 10 Then, using a while loop, create an identical programme that prints the numbers 1 to 10."
   ]
  },
  {
   "cell_type": "code",
   "execution_count": null,
   "metadata": {},
   "outputs": [],
   "source": [
    " #Using For Loop\n",
    "print(\"Using For Loop\")\n",
    "for i in range(1,11):\n",
    "    print(i,end=\" \")\n",
    "        \n",
    "#Using While Loop\n",
    "cnt=1\n",
    "print(\"\\n Using While Loop\")\n",
    "while(cnt<=10):\n",
    "     print(cnt,end=\" \")\n",
    "     cnt+=1\n",
    "        "
   ]
  },
  {
   "cell_type": "markdown",
   "metadata": {},
   "source": [
    "#### 14. If you had a bacon() function within a spam module, what would you call it after importing spam?"
   ]
  },
  {
   "cell_type": "code",
   "execution_count": null,
   "metadata": {},
   "outputs": [],
   "source": [
    "##Importing Spam as module and given alias as sp\n",
    "\n",
    "import spam as sp\n",
    "\n",
    "## To call bacon function we would use as below\n",
    "\n",
    " sp.bacon()"
   ]
  },
  {
   "cell_type": "code",
   "execution_count": null,
   "metadata": {},
   "outputs": [],
   "source": []
  }
 ],
 "metadata": {
  "kernelspec": {
   "display_name": "Python 3",
   "language": "python",
   "name": "python3"
  },
  "language_info": {
   "codemirror_mode": {
    "name": "ipython",
    "version": 3
   },
   "file_extension": ".py",
   "mimetype": "text/x-python",
   "name": "python",
   "nbconvert_exporter": "python",
   "pygments_lexer": "ipython3",
   "version": "3.7.6"
  }
 },
 "nbformat": 4,
 "nbformat_minor": 4
}
